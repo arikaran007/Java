{
  "nbformat": 4,
  "nbformat_minor": 0,
  "metadata": {
    "colab": {
      "provenance": [],
      "authorship_tag": "ABX9TyPSOk1WyUPRTkkPedUgjexZ",
      "include_colab_link": true
    },
    "kernelspec": {
      "name": "python3",
      "display_name": "Python 3"
    },
    "language_info": {
      "name": "python"
    }
  },
  "cells": [
    {
      "cell_type": "markdown",
      "metadata": {
        "id": "view-in-github",
        "colab_type": "text"
      },
      "source": [
        "<a href=\"https://colab.research.google.com/github/arikaran007/Java/blob/main/LIst_Set_tuple_comprehension.ipynb\" target=\"_parent\"><img src=\"https://colab.research.google.com/assets/colab-badge.svg\" alt=\"Open In Colab\"/></a>"
      ]
    },
    {
      "cell_type": "code",
      "execution_count": null,
      "metadata": {
        "id": "xvKOd6-fE1F8",
        "colab": {
          "base_uri": "https://localhost:8080/"
        },
        "outputId": "a6213770-d244-4491-9fb0-b78eab58e6f0"
      },
      "outputs": [
        {
          "output_type": "stream",
          "name": "stdout",
          "text": [
            "[0, 1, 2, 3, 4, 5, 6, 7, 8, 9]\n"
          ]
        }
      ],
      "source": [
        "nums = [0,1,2,3,4,5,6,7,8,9]\n",
        "\n",
        "my_list=[]\n",
        "for n in nums:\n",
        "  my_list.append(n)\n",
        "print (my_list)"
      ]
    },
    {
      "cell_type": "code",
      "source": [
        "my_list = [n for n in nums]\n",
        "print(my_list)"
      ],
      "metadata": {
        "colab": {
          "base_uri": "https://localhost:8080/"
        },
        "id": "toRvc1Brqk2A",
        "outputId": "c01720bc-ed13-49de-d244-f156086b77d3"
      },
      "execution_count": null,
      "outputs": [
        {
          "output_type": "stream",
          "name": "stdout",
          "text": [
            "[0, 1, 2, 3, 4, 5, 6, 7, 8, 9]\n"
          ]
        }
      ]
    },
    {
      "cell_type": "code",
      "source": [
        "nums = [0,1,2,3,4,5,6,7,8,9]\n",
        "\n",
        "my_list=[]\n",
        "for n in nums:\n",
        "  my_list.append(n*n)\n",
        "print (my_list)"
      ],
      "metadata": {
        "colab": {
          "base_uri": "https://localhost:8080/"
        },
        "id": "xWgv1Tddq70X",
        "outputId": "85634cea-ce59-43cf-e0aa-c029e755315e"
      },
      "execution_count": null,
      "outputs": [
        {
          "output_type": "stream",
          "name": "stdout",
          "text": [
            "[0, 1, 4, 9, 16, 25, 36, 49, 64, 81]\n"
          ]
        }
      ]
    },
    {
      "cell_type": "code",
      "source": [
        "my_list = [n*n for n in nums]\n",
        "print(my_list)"
      ],
      "metadata": {
        "colab": {
          "base_uri": "https://localhost:8080/"
        },
        "id": "8dFD2_pPrI1z",
        "outputId": "f2024fbc-0aa5-4e7a-d664-8626275c470b"
      },
      "execution_count": null,
      "outputs": [
        {
          "output_type": "stream",
          "name": "stdout",
          "text": [
            "[0, 1, 4, 9, 16, 25, 36, 49, 64, 81]\n"
          ]
        }
      ]
    },
    {
      "cell_type": "code",
      "source": [
        "my_list = map(lambda n:n*n,nums)\n",
        "print(my_list)"
      ],
      "metadata": {
        "colab": {
          "base_uri": "https://localhost:8080/"
        },
        "id": "bVs3m_lQrVnD",
        "outputId": "49bc810e-ec83-44de-c112-0e87c80d5372"
      },
      "execution_count": null,
      "outputs": [
        {
          "output_type": "stream",
          "name": "stdout",
          "text": [
            "<map object at 0x7fc9e6533760>\n"
          ]
        }
      ]
    },
    {
      "cell_type": "code",
      "source": [
        "my_list=[]\n",
        "for n in nums:\n",
        "  if n%2==0:\n",
        "    my_list.append(n)\n",
        "print(my_list)"
      ],
      "metadata": {
        "colab": {
          "base_uri": "https://localhost:8080/"
        },
        "id": "UF2NNgw6sBIN",
        "outputId": "e63207f5-d8f0-4b6c-95ce-be4bce86ab13"
      },
      "execution_count": null,
      "outputs": [
        {
          "output_type": "stream",
          "name": "stdout",
          "text": [
            "[0, 2, 4, 6, 8]\n"
          ]
        }
      ]
    },
    {
      "cell_type": "code",
      "source": [
        "my_list = filter(lambda n: n%2==0 , nums)\n",
        "print(my_list)"
      ],
      "metadata": {
        "colab": {
          "base_uri": "https://localhost:8080/"
        },
        "id": "VE1vSrwEsv-d",
        "outputId": "eba577c1-4593-41cb-fc5b-edf0c98ae127"
      },
      "execution_count": null,
      "outputs": [
        {
          "output_type": "stream",
          "name": "stdout",
          "text": [
            "<filter object at 0x7fc9e6533d90>\n"
          ]
        }
      ]
    },
    {
      "cell_type": "code",
      "source": [
        "my_list=[]\n",
        "for letter in 'abcd':\n",
        "  for num in range(4):\n",
        "    my_list.append((letter,num))\n",
        "print(my_list)"
      ],
      "metadata": {
        "colab": {
          "base_uri": "https://localhost:8080/"
        },
        "id": "DqDB9XiGtPnj",
        "outputId": "20855dbd-c0a0-4254-cf9a-6555db30e627"
      },
      "execution_count": null,
      "outputs": [
        {
          "output_type": "stream",
          "name": "stdout",
          "text": [
            "[('a', 0), ('a', 1), ('a', 2), ('a', 3), ('b', 0), ('b', 1), ('b', 2), ('b', 3), ('c', 0), ('c', 1), ('c', 2), ('c', 3), ('d', 0), ('d', 1), ('d', 2), ('d', 3)]\n"
          ]
        }
      ]
    },
    {
      "cell_type": "code",
      "source": [
        "my_list = [(letter,num) for letter in 'abcd' for num in range(4)]\n",
        "print(my_list)"
      ],
      "metadata": {
        "colab": {
          "base_uri": "https://localhost:8080/"
        },
        "id": "_PgqGEc5uuPU",
        "outputId": "6b6ccdb2-5e81-4eab-af8d-360f61219f0a"
      },
      "execution_count": null,
      "outputs": [
        {
          "output_type": "stream",
          "name": "stdout",
          "text": [
            "[('a', 0), ('a', 1), ('a', 2), ('a', 3), ('b', 0), ('b', 1), ('b', 2), ('b', 3), ('c', 0), ('c', 1), ('c', 2), ('c', 3), ('d', 0), ('d', 1), ('d', 2), ('d', 3)]\n"
          ]
        }
      ]
    },
    {
      "cell_type": "markdown",
      "source": [
        "dictionary comprehension"
      ],
      "metadata": {
        "id": "8JBHgc6fwMfS"
      }
    },
    {
      "cell_type": "code",
      "source": [
        "name = ['bruce','clark','peter']\n",
        "hero = ['batman','superman','spiderman']\n",
        "print(zip(name,hero))"
      ],
      "metadata": {
        "colab": {
          "base_uri": "https://localhost:8080/"
        },
        "id": "mtmW9izhvKYT",
        "outputId": "47a9a400-5b33-4405-c224-93a43d7b35e1"
      },
      "execution_count": null,
      "outputs": [
        {
          "output_type": "stream",
          "name": "stdout",
          "text": [
            "<zip object at 0x7fc9e6443c80>\n"
          ]
        }
      ]
    },
    {
      "cell_type": "code",
      "source": [
        "my_dict = {}\n",
        "for names,heros in zip(name,hero):\n",
        "  my_dict[names]= heros\n",
        "print(my_dict)"
      ],
      "metadata": {
        "colab": {
          "base_uri": "https://localhost:8080/"
        },
        "id": "jvriAtd-wl9X",
        "outputId": "06e2be1e-3fc2-4472-ecb8-52adbc0ca805"
      },
      "execution_count": null,
      "outputs": [
        {
          "output_type": "stream",
          "name": "stdout",
          "text": [
            "{'bruce': 'batman', 'clark': 'superman', 'peter': 'spiderman'}\n"
          ]
        }
      ]
    },
    {
      "cell_type": "code",
      "source": [
        "my_dict = {names:heros for names,heros in zip(name,hero)}\n",
        "print(my_dict)"
      ],
      "metadata": {
        "colab": {
          "base_uri": "https://localhost:8080/"
        },
        "id": "W3DoWoTdxIXP",
        "outputId": "11b4f10c-638a-4c0f-90ae-36f227b74c0e"
      },
      "execution_count": null,
      "outputs": [
        {
          "output_type": "stream",
          "name": "stdout",
          "text": [
            "{'bruce': 'batman', 'clark': 'superman', 'peter': 'spiderman'}\n"
          ]
        }
      ]
    },
    {
      "cell_type": "markdown",
      "source": [
        "set comprehension"
      ],
      "metadata": {
        "id": "ASPsyfhcy5gD"
      }
    },
    {
      "cell_type": "code",
      "source": [
        "nums = [1,2,3,1,2,3,4,4,5,6,7,8,5]\n",
        "my_set = set()\n",
        "for n in nums:\n",
        "  my_set.add(n)\n",
        "print(my_set)\n"
      ],
      "metadata": {
        "colab": {
          "base_uri": "https://localhost:8080/"
        },
        "id": "kqBUKLFOxs5O",
        "outputId": "6ba5d39e-c119-477a-ff2b-82e1bb2400f4"
      },
      "execution_count": null,
      "outputs": [
        {
          "output_type": "stream",
          "name": "stdout",
          "text": [
            "{1, 2, 3, 4, 5, 6, 7, 8}\n"
          ]
        }
      ]
    },
    {
      "cell_type": "code",
      "source": [
        "my_set = set(n for n in nums)\n",
        "print(my_set)"
      ],
      "metadata": {
        "colab": {
          "base_uri": "https://localhost:8080/"
        },
        "id": "hwmtWnbWzTpx",
        "outputId": "64ff9bdc-c43d-487a-e601-9efe75a62ae0"
      },
      "execution_count": null,
      "outputs": [
        {
          "output_type": "stream",
          "name": "stdout",
          "text": [
            "{1, 2, 3, 4, 5, 6, 7, 8}\n"
          ]
        }
      ]
    },
    {
      "cell_type": "markdown",
      "source": [
        "Generator expression"
      ],
      "metadata": {
        "id": "O58SSwYWzx5h"
      }
    },
    {
      "cell_type": "code",
      "source": [
        "nums = [0,1,2,3,4,5,6,7,8,9]\n",
        "\n",
        "def get_func(nums):\n",
        "  for n in nums:\n",
        "    yield n*n\n",
        "\n",
        "my_gen = get_func(nums)\n",
        "\n",
        "for i in my_gen:\n",
        "  print(i)\n"
      ],
      "metadata": {
        "colab": {
          "base_uri": "https://localhost:8080/"
        },
        "id": "vHQR9svcziBs",
        "outputId": "89b2c1cf-0b29-4168-b9ac-e1aebbb7383e"
      },
      "execution_count": null,
      "outputs": [
        {
          "output_type": "stream",
          "name": "stdout",
          "text": [
            "0\n",
            "1\n",
            "4\n",
            "9\n",
            "16\n",
            "25\n",
            "36\n",
            "49\n",
            "64\n",
            "81\n"
          ]
        }
      ]
    },
    {
      "cell_type": "code",
      "source": [
        "my_gen = (n*n for n in nums)\n",
        "print(my_gen)"
      ],
      "metadata": {
        "colab": {
          "base_uri": "https://localhost:8080/"
        },
        "id": "Pn2XCdmF0kF9",
        "outputId": "7dbd436f-a074-412f-8f3b-16c972538a50"
      },
      "execution_count": null,
      "outputs": [
        {
          "output_type": "stream",
          "name": "stdout",
          "text": [
            "<generator object <genexpr> at 0x7fc9e62dba00>\n"
          ]
        }
      ]
    },
    {
      "cell_type": "code",
      "source": [],
      "metadata": {
        "id": "mEddyTmO0sBU"
      },
      "execution_count": null,
      "outputs": []
    }
  ]
}